{
 "cells": [
  {
   "cell_type": "code",
   "execution_count": 1,
   "id": "f76800b9",
   "metadata": {},
   "outputs": [],
   "source": [
    "import numpy as np  \n",
    "import pandas as pd "
   ]
  },
  {
   "cell_type": "markdown",
   "id": "292cbb80",
   "metadata": {},
   "source": [
    "# Предварительная обработка"
   ]
  },
  {
   "cell_type": "code",
   "execution_count": 3,
   "id": "518a1010",
   "metadata": {},
   "outputs": [
    {
     "data": {
      "text/html": [
       "<div>\n",
       "<style scoped>\n",
       "    .dataframe tbody tr th:only-of-type {\n",
       "        vertical-align: middle;\n",
       "    }\n",
       "\n",
       "    .dataframe tbody tr th {\n",
       "        vertical-align: top;\n",
       "    }\n",
       "\n",
       "    .dataframe thead th {\n",
       "        text-align: right;\n",
       "    }\n",
       "</style>\n",
       "<table border=\"1\" class=\"dataframe\">\n",
       "  <thead>\n",
       "    <tr style=\"text-align: right;\">\n",
       "      <th></th>\n",
       "      <th>Название</th>\n",
       "      <th>Ссылка</th>\n",
       "      <th>Цена</th>\n",
       "      <th>Год</th>\n",
       "      <th>Километраж</th>\n",
       "      <th>Город</th>\n",
       "      <th>Класс автомобиля</th>\n",
       "      <th>Количество дверей</th>\n",
       "      <th>Количество мест</th>\n",
       "      <th>Длина</th>\n",
       "      <th>Ширина</th>\n",
       "      <th>Высота</th>\n",
       "      <th>Коробка передач</th>\n",
       "      <th>Тип привода</th>\n",
       "      <th>Максимальная скорость</th>\n",
       "      <th>Разгон до 100</th>\n",
       "      <th>Тип двигателя</th>\n",
       "      <th>Максимальная мощность</th>\n",
       "    </tr>\n",
       "  </thead>\n",
       "  <tbody>\n",
       "    <tr>\n",
       "      <th>0</th>\n",
       "      <td>BYD E2</td>\n",
       "      <td>https://auto.ru/cars/used/sale/byd/e2/11231094...</td>\n",
       "      <td>2450000₽</td>\n",
       "      <td>2023.0</td>\n",
       "      <td>1.0</td>\n",
       "      <td>moskva</td>\n",
       "      <td>C</td>\n",
       "      <td>5.0</td>\n",
       "      <td>5</td>\n",
       "      <td>4260.0</td>\n",
       "      <td>1760.0</td>\n",
       "      <td>1530.0</td>\n",
       "      <td>Автомат</td>\n",
       "      <td>передний</td>\n",
       "      <td>130.0</td>\n",
       "      <td>NaN</td>\n",
       "      <td>Электро</td>\n",
       "      <td>95 л.с. (70 кВт)</td>\n",
       "    </tr>\n",
       "    <tr>\n",
       "      <th>1</th>\n",
       "      <td>Changan UNI-K</td>\n",
       "      <td>https://auto.ru/cars/used/sale/changan/uni_k/1...</td>\n",
       "      <td>3440000₽</td>\n",
       "      <td>2023.0</td>\n",
       "      <td>1.0</td>\n",
       "      <td>moskva</td>\n",
       "      <td>E</td>\n",
       "      <td>5.0</td>\n",
       "      <td>5</td>\n",
       "      <td>4865.0</td>\n",
       "      <td>1948.0</td>\n",
       "      <td>1695.0</td>\n",
       "      <td>Автомат</td>\n",
       "      <td>полный</td>\n",
       "      <td>200.0</td>\n",
       "      <td>NaN</td>\n",
       "      <td>бензиновый</td>\n",
       "      <td>226 л.с. (166 кВт) при 5500</td>\n",
       "    </tr>\n",
       "    <tr>\n",
       "      <th>2</th>\n",
       "      <td>LiXiang L9 44.5 kWh</td>\n",
       "      <td>https://auto.ru/cars/used/sale/lixiang/l9/1122...</td>\n",
       "      <td>7760000₽</td>\n",
       "      <td>2024.0</td>\n",
       "      <td>1.0</td>\n",
       "      <td>moskva</td>\n",
       "      <td>F</td>\n",
       "      <td>5.0</td>\n",
       "      <td>6</td>\n",
       "      <td>5218.0</td>\n",
       "      <td>1998.0</td>\n",
       "      <td>1800.0</td>\n",
       "      <td>Автомат</td>\n",
       "      <td>полный</td>\n",
       "      <td>180.0</td>\n",
       "      <td>5.3</td>\n",
       "      <td>гибридный</td>\n",
       "      <td>449 л.с. (330 кВт)</td>\n",
       "    </tr>\n",
       "    <tr>\n",
       "      <th>3</th>\n",
       "      <td>NaN</td>\n",
       "      <td>https://auto.ru/cars/used/sale/geely/monjaro/1...</td>\n",
       "      <td>NaN</td>\n",
       "      <td>NaN</td>\n",
       "      <td>NaN</td>\n",
       "      <td>moskva</td>\n",
       "      <td>NaN</td>\n",
       "      <td>NaN</td>\n",
       "      <td>NaN</td>\n",
       "      <td>NaN</td>\n",
       "      <td>NaN</td>\n",
       "      <td>NaN</td>\n",
       "      <td>NaN</td>\n",
       "      <td>NaN</td>\n",
       "      <td>NaN</td>\n",
       "      <td>NaN</td>\n",
       "      <td>NaN</td>\n",
       "      <td>NaN</td>\n",
       "    </tr>\n",
       "    <tr>\n",
       "      <th>4</th>\n",
       "      <td>Zeekr 007 770</td>\n",
       "      <td>https://auto.ru/cars/used/sale/zeekr/007/11229...</td>\n",
       "      <td>5830000₽</td>\n",
       "      <td>2024.0</td>\n",
       "      <td>1.0</td>\n",
       "      <td>moskva</td>\n",
       "      <td>D</td>\n",
       "      <td>4.0</td>\n",
       "      <td>5</td>\n",
       "      <td>4865.0</td>\n",
       "      <td>1900.0</td>\n",
       "      <td>1450.0</td>\n",
       "      <td>Автомат</td>\n",
       "      <td>полный</td>\n",
       "      <td>210.0</td>\n",
       "      <td>3.5</td>\n",
       "      <td>Электро</td>\n",
       "      <td>646 л.с. (475 кВт)</td>\n",
       "    </tr>\n",
       "  </tbody>\n",
       "</table>\n",
       "</div>"
      ],
      "text/plain": [
       "              Название                                             Ссылка  \\\n",
       "0               BYD E2  https://auto.ru/cars/used/sale/byd/e2/11231094...   \n",
       "1        Changan UNI-K  https://auto.ru/cars/used/sale/changan/uni_k/1...   \n",
       "2  LiXiang L9 44.5 kWh  https://auto.ru/cars/used/sale/lixiang/l9/1122...   \n",
       "3                  NaN  https://auto.ru/cars/used/sale/geely/monjaro/1...   \n",
       "4        Zeekr 007 770  https://auto.ru/cars/used/sale/zeekr/007/11229...   \n",
       "\n",
       "       Цена     Год  Километраж   Город Класс автомобиля  Количество дверей  \\\n",
       "0  2450000₽  2023.0         1.0  moskva                C                5.0   \n",
       "1  3440000₽  2023.0         1.0  moskva                E                5.0   \n",
       "2  7760000₽  2024.0         1.0  moskva                F                5.0   \n",
       "3       NaN     NaN         NaN  moskva              NaN                NaN   \n",
       "4  5830000₽  2024.0         1.0  moskva                D                4.0   \n",
       "\n",
       "  Количество мест   Длина  Ширина  Высота Коробка передач Тип привода  \\\n",
       "0               5  4260.0  1760.0  1530.0         Автомат    передний   \n",
       "1               5  4865.0  1948.0  1695.0         Автомат      полный   \n",
       "2               6  5218.0  1998.0  1800.0         Автомат      полный   \n",
       "3             NaN     NaN     NaN     NaN             NaN         NaN   \n",
       "4               5  4865.0  1900.0  1450.0         Автомат      полный   \n",
       "\n",
       "   Максимальная скорость  Разгон до 100 Тип двигателя  \\\n",
       "0                  130.0            NaN       Электро   \n",
       "1                  200.0            NaN    бензиновый   \n",
       "2                  180.0            5.3     гибридный   \n",
       "3                    NaN            NaN           NaN   \n",
       "4                  210.0            3.5       Электро   \n",
       "\n",
       "         Максимальная мощность  \n",
       "0             95 л.с. (70 кВт)  \n",
       "1  226 л.с. (166 кВт) при 5500  \n",
       "2           449 л.с. (330 кВт)  \n",
       "3                          NaN  \n",
       "4           646 л.с. (475 кВт)  "
      ]
     },
     "execution_count": 3,
     "metadata": {},
     "output_type": "execute_result"
    }
   ],
   "source": [
    "# подгружаем датасет\n",
    "df = pd.read_csv(path + '/parsed_cars.csv')\n",
    "df = df.drop(['Unnamed: 0', 'index', 'Unnamed: 0.1'], axis = 1) # убираем ненужные столбцы\n",
    "\n",
    "df.head()"
   ]
  },
  {
   "cell_type": "code",
   "execution_count": 4,
   "id": "5953b7ad",
   "metadata": {},
   "outputs": [
    {
     "data": {
      "text/plain": [
       "Index(['Название', 'Ссылка', 'Цена', 'Год', 'Километраж', 'Город',\n",
       "       'Класс автомобиля', 'Количество дверей', 'Количество мест', 'Длина',\n",
       "       'Ширина', 'Высота', 'Коробка передач', 'Тип привода',\n",
       "       'Максимальная скорость', 'Разгон до 100', 'Тип двигателя',\n",
       "       'Максимальная мощность'],\n",
       "      dtype='object')"
      ]
     },
     "execution_count": 4,
     "metadata": {},
     "output_type": "execute_result"
    }
   ],
   "source": [
    "df.columns # наши полученные переменные"
   ]
  },
  {
   "cell_type": "markdown",
   "id": "bdf88cd5",
   "metadata": {},
   "source": [
    "### Описание переменных\n",
    "1. **Название**: Название марки автомобиля и ее модели\n",
    "2. **Ссылка**: Ссылка на объявления на сайте auto.ru\n",
    "3. **Цена**: Целевая переменная, которую мы потом будем предсказывать. Содержит информацию о цене машины в рублях\n",
    "4. **Год**: Описывает год выпуска автомобиля\n",
    "5. **Километраж**: Расстояние, которое машина проехала в км\n",
    "6. **Город**: Город, в котором было размещено объявление. Были собраны объявления из 6 городов: Москва, Ростов-на-Дону, Санкт-Петербург, Екатеринбург, Новосибирск, Владивосток\n",
    "7. **Класс автомобиля**: Всего представлено 8 классов машин, информация о классах есть [тут](https://www.autonews.ru/news/627e0cad9a79476cc13b0bef)\n",
    "8. **Количество дверей**: Показывает, сколько дверей в машине. В нашем случае либо 4, либо 5\n",
    "9. **Количество мест**: Показывает сколько максимально людей машина может вместить\n",
    "10. **Длина, ширина, высота**: Содержит информацию о размерах машины в миллиметрах\n",
    "11. **Коробка передач**: Тип коробки передач машины. Всего есть 4 типа: автомат, робот, вариатор, механика\n",
    "12. **Тип привода**: Информация о приводе автомобиля (передний, полный или задний)\n",
    "13. **Максимальная скорость**: Максимальная скорость, до которой может разогнаться автомобиль в км/ч\n",
    "14. **Разгон до 100**: Время в секундах, за которое машина разгоняется до 100 км/ч\n",
    "15. **Тип двигателя**: Показывает тип двигателя автомобиля: бензиновый, дизельный, электро или гибридный\n",
    "16. **Максимальная мощность**: Максимальная мощность двигателя машины в л.с."
   ]
  },
  {
   "cell_type": "markdown",
   "id": "55dcd6d5",
   "metadata": {},
   "source": [
    "В данных есть несколько проблем: надо убрать пустые строки, достать значения цен и мощности двигателя в формате int, а также убрать наблюдения с неизвестной ценой (их всего 2)"
   ]
  },
  {
   "cell_type": "code",
   "execution_count": 5,
   "id": "357d4039",
   "metadata": {},
   "outputs": [],
   "source": [
    "# убираем пустые строки\n",
    "df = df[df.isna().sum(axis = 1) < 10] \n",
    "\n",
    "#убираем строки с неизвестной ценой, так как это целевая переменная\n",
    "df = df[df['Цена'].isna() == False] \n",
    "\n",
    "#достаем значение макс. мощности из строки\n",
    "df['Максимальная мощность'].apply(lambda w: int(w.split('л.с.')[0].strip())) \n",
    "\n",
    "#убираем для цены символ рубля и делаем тип int\n",
    "df['Цена'] = df['Цена'].str.replace('₽', '').astype(float) "
   ]
  },
  {
   "cell_type": "markdown",
   "id": "f28d288c",
   "metadata": {},
   "source": [
    "Посмотрим на значения в переменной \"Количество мест\". "
   ]
  },
  {
   "cell_type": "code",
   "execution_count": 6,
   "id": "04a0db52",
   "metadata": {},
   "outputs": [
    {
     "data": {
      "text/plain": [
       "5          2343\n",
       "7           178\n",
       "5, 7         86\n",
       "6            75\n",
       "4, 5         62\n",
       "4            32\n",
       "4, 7         22\n",
       "6, 7         20\n",
       "5, 6, 7      15\n",
       "4, 6, 7      11\n",
       "6, 4         10\n",
       "6, 7, 8       2\n",
       "5, 7, 9       1\n",
       "2             1\n",
       "Name: Количество мест, dtype: int64"
      ]
     },
     "execution_count": 6,
     "metadata": {},
     "output_type": "execute_result"
    }
   ],
   "source": [
    "df['Количество мест'].value_counts()"
   ]
  },
  {
   "cell_type": "markdown",
   "id": "607b82cf",
   "metadata": {},
   "source": [
    "Видим, что для некоторых моделей машин указывается несколько вариантов числа мест. Мы будем брать максимальную вместимость:"
   ]
  },
  {
   "cell_type": "code",
   "execution_count": 7,
   "id": "23a1fa87",
   "metadata": {},
   "outputs": [],
   "source": [
    "df['Количество мест'] = df['Количество мест'].apply(lambda x: x.split(', ')[-1])"
   ]
  },
  {
   "cell_type": "markdown",
   "id": "2accdd04",
   "metadata": {},
   "source": [
    "Теперь посмотрим на пропуски в данных. Пропуски есть только в двух переменных: максимальная скорость и разгон до 100, мы постараемся их заполнить. Так как для автомобилей внутри одного класса эти показатели довольно близкие, мы заполним их средней по классу."
   ]
  },
  {
   "cell_type": "code",
   "execution_count": 8,
   "id": "40b8ca40",
   "metadata": {},
   "outputs": [
    {
     "data": {
      "text/plain": [
       "Название                   0\n",
       "Ссылка                     0\n",
       "Цена                       0\n",
       "Год                        0\n",
       "Километраж                 0\n",
       "Город                      0\n",
       "Класс автомобиля           0\n",
       "Количество дверей          0\n",
       "Количество мест            0\n",
       "Длина                      0\n",
       "Ширина                     0\n",
       "Высота                     0\n",
       "Коробка передач            0\n",
       "Тип привода                0\n",
       "Максимальная скорость    187\n",
       "Разгон до 100            675\n",
       "Тип двигателя              0\n",
       "Максимальная мощность      0\n",
       "dtype: int64"
      ]
     },
     "execution_count": 8,
     "metadata": {},
     "output_type": "execute_result"
    }
   ],
   "source": [
    "df.isna().sum()"
   ]
  },
  {
   "cell_type": "code",
   "execution_count": 9,
   "id": "32454bfd",
   "metadata": {},
   "outputs": [
    {
     "data": {
      "text/plain": [
       "C    85\n",
       "E    25\n",
       "J    24\n",
       "D    19\n",
       "M    17\n",
       "B    12\n",
       "F     5\n",
       "Name: Класс автомобиля, dtype: int64"
      ]
     },
     "execution_count": 9,
     "metadata": {},
     "output_type": "execute_result"
    }
   ],
   "source": [
    "df[df['Максимальная скорость'].isna()]['Класс автомобиля'].value_counts()"
   ]
  },
  {
   "cell_type": "code",
   "execution_count": 10,
   "id": "c1dc2c6e",
   "metadata": {},
   "outputs": [
    {
     "name": "stderr",
     "output_type": "stream",
     "text": [
      "/var/folders/80/wx2xrtm12cn4rjgnh957mx1m0000gn/T/ipykernel_80215/3299269934.py:2: SettingWithCopyWarning: \n",
      "A value is trying to be set on a copy of a slice from a DataFrame\n",
      "\n",
      "See the caveats in the documentation: https://pandas.pydata.org/pandas-docs/stable/user_guide/indexing.html#returning-a-view-versus-a-copy\n",
      "  df['Максимальная скорость'].iloc[i] = df[df['Класс автомобиля'] ==\n",
      "/var/folders/80/wx2xrtm12cn4rjgnh957mx1m0000gn/T/ipykernel_80215/3299269934.py:6: SettingWithCopyWarning: \n",
      "A value is trying to be set on a copy of a slice from a DataFrame\n",
      "\n",
      "See the caveats in the documentation: https://pandas.pydata.org/pandas-docs/stable/user_guide/indexing.html#returning-a-view-versus-a-copy\n",
      "  df['Разгон до 100'].iloc[i] = df[df['Класс автомобиля'] ==\n"
     ]
    }
   ],
   "source": [
    "for i in np.where(df['Максимальная скорость'].isna())[0]:\n",
    "    df['Максимальная скорость'].iloc[i] = df[df['Класс автомобиля'] == \n",
    "                                    df['Класс автомобиля'].iloc[i]]['Максимальная скорость'].mean()\n",
    "    \n",
    "for i in np.where(df['Разгон до 100'].isna())[0]:\n",
    "    df['Разгон до 100'].iloc[i] = df[df['Класс автомобиля'] == \n",
    "                                    df['Класс автомобиля'].iloc[i]]['Разгон до 100'].mean()"
   ]
  },
  {
   "cell_type": "code",
   "execution_count": 11,
   "id": "4bd10634",
   "metadata": {},
   "outputs": [
    {
     "data": {
      "text/plain": [
       "Название                 0\n",
       "Ссылка                   0\n",
       "Цена                     0\n",
       "Год                      0\n",
       "Километраж               0\n",
       "Город                    0\n",
       "Класс автомобиля         0\n",
       "Количество дверей        0\n",
       "Количество мест          0\n",
       "Длина                    0\n",
       "Ширина                   0\n",
       "Высота                   0\n",
       "Коробка передач          0\n",
       "Тип привода              0\n",
       "Максимальная скорость    0\n",
       "Разгон до 100            0\n",
       "Тип двигателя            0\n",
       "Максимальная мощность    0\n",
       "dtype: int64"
      ]
     },
     "execution_count": 11,
     "metadata": {},
     "output_type": "execute_result"
    }
   ],
   "source": [
    "df.isna().sum()"
   ]
  }
 ],
 "metadata": {
  "kernelspec": {
   "display_name": "Python 3 (ipykernel)",
   "language": "python",
   "name": "python3"
  },
  "language_info": {
   "codemirror_mode": {
    "name": "ipython",
    "version": 3
   },
   "file_extension": ".py",
   "mimetype": "text/x-python",
   "name": "python",
   "nbconvert_exporter": "python",
   "pygments_lexer": "ipython3",
   "version": "3.9.12"
  }
 },
 "nbformat": 4,
 "nbformat_minor": 5
}
