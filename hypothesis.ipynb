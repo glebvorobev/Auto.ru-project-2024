{
 "cells": [
  {
   "cell_type": "markdown",
   "id": "54b93be4",
   "metadata": {},
   "source": [
    "## Гипотезы"
   ]
  },
  {
   "cell_type": "code",
   "execution_count": 1,
   "id": "f19b087f",
   "metadata": {},
   "outputs": [],
   "source": [
    "import scipy.stats as sts\n",
    "import numpy as np\n",
    "import pandas as pd\n",
    "import matplotlib.pyplot as plt\n",
    "from statsmodels.stats.proportion import proportions_ztest\n",
    "\n",
    "alpha = 0.05 # уровень значимости для всех гипотез"
   ]
  },
  {
   "cell_type": "code",
   "execution_count": 4,
   "id": "5b177a54",
   "metadata": {
    "scrolled": false
   },
   "outputs": [
    {
     "data": {
      "text/html": [
       "<div>\n",
       "<style scoped>\n",
       "    .dataframe tbody tr th:only-of-type {\n",
       "        vertical-align: middle;\n",
       "    }\n",
       "\n",
       "    .dataframe tbody tr th {\n",
       "        vertical-align: top;\n",
       "    }\n",
       "\n",
       "    .dataframe thead th {\n",
       "        text-align: right;\n",
       "    }\n",
       "</style>\n",
       "<table border=\"1\" class=\"dataframe\">\n",
       "  <thead>\n",
       "    <tr style=\"text-align: right;\">\n",
       "      <th></th>\n",
       "      <th>Цена</th>\n",
       "      <th>Год</th>\n",
       "      <th>Километраж</th>\n",
       "      <th>Количество дверей</th>\n",
       "      <th>Количество мест</th>\n",
       "      <th>Длина</th>\n",
       "      <th>Ширина</th>\n",
       "      <th>Высота</th>\n",
       "      <th>Максимальная скорость</th>\n",
       "      <th>Разгон до 100</th>\n",
       "      <th>...</th>\n",
       "      <th>Тип привода_задний</th>\n",
       "      <th>Тип привода_передний</th>\n",
       "      <th>Тип привода_полный</th>\n",
       "      <th>Тип двигателя_Электро</th>\n",
       "      <th>Тип двигателя_бензиновый</th>\n",
       "      <th>Тип двигателя_гибридный</th>\n",
       "      <th>Тип двигателя_дизельный</th>\n",
       "      <th>Объём</th>\n",
       "      <th>Удельная мощность автомобиля</th>\n",
       "      <th>Плотность пассажирского пространства</th>\n",
       "    </tr>\n",
       "  </thead>\n",
       "  <tbody>\n",
       "    <tr>\n",
       "      <th>0</th>\n",
       "      <td>3440000.0</td>\n",
       "      <td>2023.0</td>\n",
       "      <td>1000.0</td>\n",
       "      <td>5.0</td>\n",
       "      <td>5.0</td>\n",
       "      <td>4865.0</td>\n",
       "      <td>1948.0</td>\n",
       "      <td>1695.0</td>\n",
       "      <td>200.0</td>\n",
       "      <td>5.411007</td>\n",
       "      <td>...</td>\n",
       "      <td>0.0</td>\n",
       "      <td>0.0</td>\n",
       "      <td>1.0</td>\n",
       "      <td>0.0</td>\n",
       "      <td>1.0</td>\n",
       "      <td>0.0</td>\n",
       "      <td>0.0</td>\n",
       "      <td>16.063549</td>\n",
       "      <td>14.069120</td>\n",
       "      <td>0.311264</td>\n",
       "    </tr>\n",
       "    <tr>\n",
       "      <th>1</th>\n",
       "      <td>4060000.0</td>\n",
       "      <td>2023.0</td>\n",
       "      <td>1000.0</td>\n",
       "      <td>5.0</td>\n",
       "      <td>5.0</td>\n",
       "      <td>4770.0</td>\n",
       "      <td>1895.0</td>\n",
       "      <td>1689.0</td>\n",
       "      <td>215.0</td>\n",
       "      <td>7.700000</td>\n",
       "      <td>...</td>\n",
       "      <td>0.0</td>\n",
       "      <td>0.0</td>\n",
       "      <td>1.0</td>\n",
       "      <td>0.0</td>\n",
       "      <td>1.0</td>\n",
       "      <td>0.0</td>\n",
       "      <td>0.0</td>\n",
       "      <td>15.267124</td>\n",
       "      <td>15.589052</td>\n",
       "      <td>0.327501</td>\n",
       "    </tr>\n",
       "    <tr>\n",
       "      <th>2</th>\n",
       "      <td>3730000.0</td>\n",
       "      <td>2023.0</td>\n",
       "      <td>1000.0</td>\n",
       "      <td>5.0</td>\n",
       "      <td>5.0</td>\n",
       "      <td>4865.0</td>\n",
       "      <td>1948.0</td>\n",
       "      <td>1695.0</td>\n",
       "      <td>200.0</td>\n",
       "      <td>5.411007</td>\n",
       "      <td>...</td>\n",
       "      <td>0.0</td>\n",
       "      <td>0.0</td>\n",
       "      <td>1.0</td>\n",
       "      <td>0.0</td>\n",
       "      <td>1.0</td>\n",
       "      <td>0.0</td>\n",
       "      <td>0.0</td>\n",
       "      <td>16.063549</td>\n",
       "      <td>14.069120</td>\n",
       "      <td>0.311264</td>\n",
       "    </tr>\n",
       "    <tr>\n",
       "      <th>3</th>\n",
       "      <td>4190000.0</td>\n",
       "      <td>2023.0</td>\n",
       "      <td>1000.0</td>\n",
       "      <td>5.0</td>\n",
       "      <td>5.0</td>\n",
       "      <td>4775.0</td>\n",
       "      <td>1920.0</td>\n",
       "      <td>1671.0</td>\n",
       "      <td>200.0</td>\n",
       "      <td>7.600000</td>\n",
       "      <td>...</td>\n",
       "      <td>0.0</td>\n",
       "      <td>0.0</td>\n",
       "      <td>1.0</td>\n",
       "      <td>0.0</td>\n",
       "      <td>1.0</td>\n",
       "      <td>0.0</td>\n",
       "      <td>0.0</td>\n",
       "      <td>15.319728</td>\n",
       "      <td>16.253552</td>\n",
       "      <td>0.326377</td>\n",
       "    </tr>\n",
       "    <tr>\n",
       "      <th>4</th>\n",
       "      <td>1650000.0</td>\n",
       "      <td>2020.0</td>\n",
       "      <td>36000.0</td>\n",
       "      <td>5.0</td>\n",
       "      <td>5.0</td>\n",
       "      <td>4318.0</td>\n",
       "      <td>1831.0</td>\n",
       "      <td>1662.0</td>\n",
       "      <td>174.0</td>\n",
       "      <td>14.000000</td>\n",
       "      <td>...</td>\n",
       "      <td>0.0</td>\n",
       "      <td>1.0</td>\n",
       "      <td>0.0</td>\n",
       "      <td>0.0</td>\n",
       "      <td>1.0</td>\n",
       "      <td>0.0</td>\n",
       "      <td>0.0</td>\n",
       "      <td>13.140201</td>\n",
       "      <td>9.284485</td>\n",
       "      <td>0.380512</td>\n",
       "    </tr>\n",
       "    <tr>\n",
       "      <th>...</th>\n",
       "      <td>...</td>\n",
       "      <td>...</td>\n",
       "      <td>...</td>\n",
       "      <td>...</td>\n",
       "      <td>...</td>\n",
       "      <td>...</td>\n",
       "      <td>...</td>\n",
       "      <td>...</td>\n",
       "      <td>...</td>\n",
       "      <td>...</td>\n",
       "      <td>...</td>\n",
       "      <td>...</td>\n",
       "      <td>...</td>\n",
       "      <td>...</td>\n",
       "      <td>...</td>\n",
       "      <td>...</td>\n",
       "      <td>...</td>\n",
       "      <td>...</td>\n",
       "      <td>...</td>\n",
       "      <td>...</td>\n",
       "      <td>...</td>\n",
       "    </tr>\n",
       "    <tr>\n",
       "      <th>2041</th>\n",
       "      <td>2320000.0</td>\n",
       "      <td>2022.0</td>\n",
       "      <td>30000.0</td>\n",
       "      <td>5.0</td>\n",
       "      <td>5.0</td>\n",
       "      <td>4620.0</td>\n",
       "      <td>1890.0</td>\n",
       "      <td>1780.0</td>\n",
       "      <td>195.0</td>\n",
       "      <td>10.178484</td>\n",
       "      <td>...</td>\n",
       "      <td>0.0</td>\n",
       "      <td>0.0</td>\n",
       "      <td>1.0</td>\n",
       "      <td>0.0</td>\n",
       "      <td>1.0</td>\n",
       "      <td>0.0</td>\n",
       "      <td>0.0</td>\n",
       "      <td>15.542604</td>\n",
       "      <td>13.575589</td>\n",
       "      <td>0.321696</td>\n",
       "    </tr>\n",
       "    <tr>\n",
       "      <th>2042</th>\n",
       "      <td>1580000.0</td>\n",
       "      <td>2021.0</td>\n",
       "      <td>17000.0</td>\n",
       "      <td>5.0</td>\n",
       "      <td>5.0</td>\n",
       "      <td>4350.0</td>\n",
       "      <td>1810.0</td>\n",
       "      <td>1615.0</td>\n",
       "      <td>195.0</td>\n",
       "      <td>7.900000</td>\n",
       "      <td>...</td>\n",
       "      <td>0.0</td>\n",
       "      <td>1.0</td>\n",
       "      <td>0.0</td>\n",
       "      <td>0.0</td>\n",
       "      <td>1.0</td>\n",
       "      <td>0.0</td>\n",
       "      <td>0.0</td>\n",
       "      <td>12.715703</td>\n",
       "      <td>13.919797</td>\n",
       "      <td>0.393215</td>\n",
       "    </tr>\n",
       "    <tr>\n",
       "      <th>2043</th>\n",
       "      <td>1430000.0</td>\n",
       "      <td>2021.0</td>\n",
       "      <td>41000.0</td>\n",
       "      <td>5.0</td>\n",
       "      <td>5.0</td>\n",
       "      <td>4437.0</td>\n",
       "      <td>1850.0</td>\n",
       "      <td>1625.0</td>\n",
       "      <td>190.0</td>\n",
       "      <td>10.178484</td>\n",
       "      <td>...</td>\n",
       "      <td>0.0</td>\n",
       "      <td>1.0</td>\n",
       "      <td>0.0</td>\n",
       "      <td>0.0</td>\n",
       "      <td>1.0</td>\n",
       "      <td>0.0</td>\n",
       "      <td>0.0</td>\n",
       "      <td>13.338731</td>\n",
       "      <td>12.669871</td>\n",
       "      <td>0.374848</td>\n",
       "    </tr>\n",
       "    <tr>\n",
       "      <th>2044</th>\n",
       "      <td>1490000.0</td>\n",
       "      <td>2021.0</td>\n",
       "      <td>16000.0</td>\n",
       "      <td>5.0</td>\n",
       "      <td>5.0</td>\n",
       "      <td>4350.0</td>\n",
       "      <td>1810.0</td>\n",
       "      <td>1615.0</td>\n",
       "      <td>195.0</td>\n",
       "      <td>7.900000</td>\n",
       "      <td>...</td>\n",
       "      <td>0.0</td>\n",
       "      <td>1.0</td>\n",
       "      <td>0.0</td>\n",
       "      <td>0.0</td>\n",
       "      <td>1.0</td>\n",
       "      <td>0.0</td>\n",
       "      <td>0.0</td>\n",
       "      <td>12.715703</td>\n",
       "      <td>13.919797</td>\n",
       "      <td>0.393215</td>\n",
       "    </tr>\n",
       "    <tr>\n",
       "      <th>2045</th>\n",
       "      <td>1900000.0</td>\n",
       "      <td>2022.0</td>\n",
       "      <td>5000.0</td>\n",
       "      <td>5.0</td>\n",
       "      <td>5.0</td>\n",
       "      <td>4515.0</td>\n",
       "      <td>1870.0</td>\n",
       "      <td>1565.0</td>\n",
       "      <td>205.0</td>\n",
       "      <td>10.178484</td>\n",
       "      <td>...</td>\n",
       "      <td>0.0</td>\n",
       "      <td>1.0</td>\n",
       "      <td>0.0</td>\n",
       "      <td>0.0</td>\n",
       "      <td>1.0</td>\n",
       "      <td>0.0</td>\n",
       "      <td>0.0</td>\n",
       "      <td>13.213373</td>\n",
       "      <td>14.228009</td>\n",
       "      <td>0.378405</td>\n",
       "    </tr>\n",
       "  </tbody>\n",
       "</table>\n",
       "<p>2046 rows × 39 columns</p>\n",
       "</div>"
      ],
      "text/plain": [
       "           Цена     Год  Километраж  Количество дверей  Количество мест  \\\n",
       "0     3440000.0  2023.0      1000.0                5.0              5.0   \n",
       "1     4060000.0  2023.0      1000.0                5.0              5.0   \n",
       "2     3730000.0  2023.0      1000.0                5.0              5.0   \n",
       "3     4190000.0  2023.0      1000.0                5.0              5.0   \n",
       "4     1650000.0  2020.0     36000.0                5.0              5.0   \n",
       "...         ...     ...         ...                ...              ...   \n",
       "2041  2320000.0  2022.0     30000.0                5.0              5.0   \n",
       "2042  1580000.0  2021.0     17000.0                5.0              5.0   \n",
       "2043  1430000.0  2021.0     41000.0                5.0              5.0   \n",
       "2044  1490000.0  2021.0     16000.0                5.0              5.0   \n",
       "2045  1900000.0  2022.0      5000.0                5.0              5.0   \n",
       "\n",
       "       Длина  Ширина  Высота  Максимальная скорость  Разгон до 100  ...  \\\n",
       "0     4865.0  1948.0  1695.0                  200.0       5.411007  ...   \n",
       "1     4770.0  1895.0  1689.0                  215.0       7.700000  ...   \n",
       "2     4865.0  1948.0  1695.0                  200.0       5.411007  ...   \n",
       "3     4775.0  1920.0  1671.0                  200.0       7.600000  ...   \n",
       "4     4318.0  1831.0  1662.0                  174.0      14.000000  ...   \n",
       "...      ...     ...     ...                    ...            ...  ...   \n",
       "2041  4620.0  1890.0  1780.0                  195.0      10.178484  ...   \n",
       "2042  4350.0  1810.0  1615.0                  195.0       7.900000  ...   \n",
       "2043  4437.0  1850.0  1625.0                  190.0      10.178484  ...   \n",
       "2044  4350.0  1810.0  1615.0                  195.0       7.900000  ...   \n",
       "2045  4515.0  1870.0  1565.0                  205.0      10.178484  ...   \n",
       "\n",
       "      Тип привода_задний  Тип привода_передний  Тип привода_полный  \\\n",
       "0                    0.0                   0.0                 1.0   \n",
       "1                    0.0                   0.0                 1.0   \n",
       "2                    0.0                   0.0                 1.0   \n",
       "3                    0.0                   0.0                 1.0   \n",
       "4                    0.0                   1.0                 0.0   \n",
       "...                  ...                   ...                 ...   \n",
       "2041                 0.0                   0.0                 1.0   \n",
       "2042                 0.0                   1.0                 0.0   \n",
       "2043                 0.0                   1.0                 0.0   \n",
       "2044                 0.0                   1.0                 0.0   \n",
       "2045                 0.0                   1.0                 0.0   \n",
       "\n",
       "      Тип двигателя_Электро  Тип двигателя_бензиновый  \\\n",
       "0                       0.0                       1.0   \n",
       "1                       0.0                       1.0   \n",
       "2                       0.0                       1.0   \n",
       "3                       0.0                       1.0   \n",
       "4                       0.0                       1.0   \n",
       "...                     ...                       ...   \n",
       "2041                    0.0                       1.0   \n",
       "2042                    0.0                       1.0   \n",
       "2043                    0.0                       1.0   \n",
       "2044                    0.0                       1.0   \n",
       "2045                    0.0                       1.0   \n",
       "\n",
       "      Тип двигателя_гибридный  Тип двигателя_дизельный      Объём  \\\n",
       "0                         0.0                      0.0  16.063549   \n",
       "1                         0.0                      0.0  15.267124   \n",
       "2                         0.0                      0.0  16.063549   \n",
       "3                         0.0                      0.0  15.319728   \n",
       "4                         0.0                      0.0  13.140201   \n",
       "...                       ...                      ...        ...   \n",
       "2041                      0.0                      0.0  15.542604   \n",
       "2042                      0.0                      0.0  12.715703   \n",
       "2043                      0.0                      0.0  13.338731   \n",
       "2044                      0.0                      0.0  12.715703   \n",
       "2045                      0.0                      0.0  13.213373   \n",
       "\n",
       "      Удельная мощность автомобиля  Плотность пассажирского пространства  \n",
       "0                        14.069120                              0.311264  \n",
       "1                        15.589052                              0.327501  \n",
       "2                        14.069120                              0.311264  \n",
       "3                        16.253552                              0.326377  \n",
       "4                         9.284485                              0.380512  \n",
       "...                            ...                                   ...  \n",
       "2041                     13.575589                              0.321696  \n",
       "2042                     13.919797                              0.393215  \n",
       "2043                     12.669871                              0.374848  \n",
       "2044                     13.919797                              0.393215  \n",
       "2045                     14.228009                              0.378405  \n",
       "\n",
       "[2046 rows x 39 columns]"
      ]
     },
     "execution_count": 4,
     "metadata": {},
     "output_type": "execute_result"
    }
   ],
   "source": [
    "df = pd.read_csv('df_for_ML_upd.txt')\n",
    "df "
   ]
  },
  {
   "cell_type": "markdown",
   "id": "5925b968",
   "metadata": {},
   "source": [
    "### Гипотеза №1\n",
    "Первая гипотеза звучит так: *правда ли, что за Уралом (Екатеринбург, Новосибирск, Владивосток) машины стоят дешевле чем в западной части России (Москва, Санкт-Петербург, Ростов-на-Дону)?*\n",
    "\n",
    "Сначала убедимся, что для нашей выборки это так:"
   ]
  },
  {
   "cell_type": "code",
   "execution_count": 5,
   "id": "21fbc18f",
   "metadata": {},
   "outputs": [],
   "source": [
    "prices_Ural = df[(df['Город_ekaterinburg'] == 1) | (df['Город_novosibirsk'] == 1)\n",
    "                | (df['Город_vladivostok'] == 1)]['Цена'] #цены за Уралом\n",
    "\n",
    "prices_not_Ural = df[(df['Город_moskva'] == 1) | (df['Город_sankt-peterburg'] == 1) |\n",
    "                    (df['Город_rostov-na-donu'] == 1)]['Цена'] #цены в западной части"
   ]
  },
  {
   "cell_type": "code",
   "execution_count": 6,
   "id": "62b77e3e",
   "metadata": {},
   "outputs": [
    {
     "name": "stdout",
     "output_type": "stream",
     "text": [
      "Средняя цена на машины за Уралом: 2382678.7416587225\n",
      "Средняя цена на машины в западной части: 2474222.668004012\n"
     ]
    }
   ],
   "source": [
    "mean_Ural = prices_Ural.mean()\n",
    "mean_not_Ural = prices_not_Ural.mean()\n",
    "\n",
    "print(f'Средняя цена на машины за Уралом: {mean_Ural}')\n",
    "print(f'Средняя цена на машины в западной части: {mean_not_Ural}')"
   ]
  },
  {
   "cell_type": "code",
   "execution_count": 7,
   "id": "dc3bcaae",
   "metadata": {},
   "outputs": [
    {
     "data": {
      "image/png": "[encoded data removed]",
      "text/plain": [
       "<Figure size 864x576 with 1 Axes>"
      ]
     },
     "metadata": {
      "needs_background": "light"
     },
     "output_type": "display_data"
    }
   ],
   "source": [
    "x = prices_Ural\n",
    "y = prices_not_Ural\n",
    "\n",
    "plt.figure(figsize=(12,8))\n",
    "plt.hist(x, bins=20, density=True, alpha=0.4, label='За Уралом')\n",
    "plt.hist(y, bins=20, density=True, alpha=0.4, label='Западная часть')\n",
    "plt.title('Распределение цен на автомобили', fontsize = 18)\n",
    "plt.xlabel('Цена', fontsize = 18)\n",
    "plt.ylabel('Частота', fontsize = 18)\n",
    "plt.legend();"
   ]
  },
  {
   "cell_type": "markdown",
   "id": "89fa2757",
   "metadata": {},
   "source": [
    "Еще из визуализаций мы поняли, что распределение цен на автомобили не похоже на нормальное, поэтому будем ориентироваться на u-test Манна-Уитни, но также посмотрим на t-тест\n",
    "\n",
    "Нулевая гипотеза будет предполагать, что статистически-значимой разницы между ценами в двух разных регионах нет, а альтернативная, что цены за Уралом более низкие:\n",
    "\n",
    "$$\n",
    "\\begin{aligned}\n",
    "&H_0: \\hspace{2mm} \\mu_{Ural} - \\mu_{not Ural} = 0\\hspace{2mm}  \\\\\n",
    "&H_1: \\hspace{2mm} \\mu_{part} - \\mu_{not Ural} < 0\\hspace{2mm} \n",
    "\\end{aligned}\n",
    "$$"
   ]
  },
  {
   "cell_type": "code",
   "execution_count": 8,
   "id": "4fed3708",
   "metadata": {},
   "outputs": [
    {
     "name": "stdout",
     "output_type": "stream",
     "text": [
      "Для теста Манна-Уитни нулевая гипотеза отвергается\n",
      "Для t-теста нулевая гипотеза отвергается\n"
     ]
    }
   ],
   "source": [
    "u_test = sts.mannwhitneyu(prices_Ural, prices_not_Ural, alternative = 'less')\n",
    "t_test = sts.ttest_ind(prices_Ural, prices_not_Ural, equal_var = False, alternative = 'less')\n",
    "    \n",
    "if u_test[1] < alpha:\n",
    "    print('Для теста Манна-Уитни нулевая гипотеза отвергается')\n",
    "else:\n",
    "    print('Для теста Манна-Уитни нулевая гипотеза не отвергается')\n",
    "    \n",
    "if t_test[1] < alpha:\n",
    "    print('Для t-теста нулевая гипотеза отвергается')\n",
    "else:\n",
    "    print('Для t-теста нулевая гипотеза не отвергается')"
   ]
  },
  {
   "cell_type": "markdown",
   "id": "0de87bf3",
   "metadata": {},
   "source": [
    "Оба теста отвергли нулевую гипотезу, значит на уровне значимости 0.05 мы можем сказать, что в среднем за Уралом покупать машины дешевле, наше предположение подтвердилось"
   ]
  },
  {
   "cell_type": "markdown",
   "id": "373ea453",
   "metadata": {},
   "source": [
    "### Гипотеза №2\n",
    "Вторая гипотеза будет проверять то, что обычно можно наблюдать в жизни: *правда ли, что полноприводные автомобили разгоняются до 100 км/ч быстрее чем переднеприводные?*\n",
    "\n",
    "Опять же, убедимся, что для нашей выборки это так:"
   ]
  },
  {
   "cell_type": "code",
   "execution_count": 9,
   "id": "b202b7e4",
   "metadata": {},
   "outputs": [
    {
     "name": "stdout",
     "output_type": "stream",
     "text": [
      "Средний разгон до 100 для переднеприводных машин: 10.091712660200916\n",
      "Средний разгон до 100 для полноприводных машин: 8.780939325005212\n"
     ]
    }
   ],
   "source": [
    "front = df[df['Тип привода_передний'] == 1]['Разгон до 100']\n",
    "full = df[df['Тип привода_полный'] == 1]['Разгон до 100']\n",
    "\n",
    "front_mean = df[df['Тип привода_передний'] == 1]['Разгон до 100'].mean()\n",
    "full_mean = df[df['Тип привода_полный'] == 1]['Разгон до 100'].mean()\n",
    "\n",
    "print(f'Средний разгон до 100 для переднеприводных машин: {front_mean}')\n",
    "print(f'Средний разгон до 100 для полноприводных машин: {full_mean}')"
   ]
  },
  {
   "cell_type": "code",
   "execution_count": 10,
   "id": "bf76de7c",
   "metadata": {},
   "outputs": [
    {
     "data": {
      "image/png": "[encoded data removed]",
      "text/plain": [
       "<Figure size 864x576 with 1 Axes>"
      ]
     },
     "metadata": {
      "needs_background": "light"
     },
     "output_type": "display_data"
    }
   ],
   "source": [
    "x = front\n",
    "y = full\n",
    "\n",
    "plt.figure(figsize=(12,8))\n",
    "plt.hist(x, bins=20, density=True, alpha=0.4, label='Передний привод')\n",
    "plt.hist(y, bins=20, density=True, alpha=0.4, label='Полный привод')\n",
    "plt.title('Распределение для разгона до 100 км/ч', fontsize = 18)\n",
    "plt.xlabel('Разгон до 100 км/ч в секундах', fontsize = 18)\n",
    "plt.ylabel('Частота', fontsize = 18)\n",
    "plt.legend();"
   ]
  },
  {
   "cell_type": "markdown",
   "id": "ef5658a1",
   "metadata": {},
   "source": [
    "Если посмотрим на распределения, то опять можно увидеть, что они не похожи на нормальные, поэтому снова используем u-test\n",
    "\n",
    "Формулируем нулевую и альтернативную гипотезы:\n",
    "\n",
    "$$\n",
    "\\begin{aligned}\n",
    "&H_0: \\hspace{2mm} \\mu_{front} - \\mu_{full} = 0\\hspace{2mm}  \\\\\n",
    "&H_1: \\hspace{2mm} \\mu_{front} - \\mu_{full} >0\\hspace{2mm} \n",
    "\\end{aligned}\n",
    "$$"
   ]
  },
  {
   "cell_type": "code",
   "execution_count": 11,
   "id": "1710af9e",
   "metadata": {},
   "outputs": [
    {
     "name": "stdout",
     "output_type": "stream",
     "text": [
      "Для теста Манна-Уитни нулевая гипотеза отвергается\n",
      "Для t-теста нулевая гипотеза отвергается\n"
     ]
    }
   ],
   "source": [
    "u_test_1 = sts.mannwhitneyu(front, full, alternative = 'greater')\n",
    "t_test_1 = sts.ttest_ind(front, full, equal_var = False, alternative = 'greater')\n",
    "    \n",
    "if u_test_1[1] < alpha:\n",
    "    print('Для теста Манна-Уитни нулевая гипотеза отвергается')\n",
    "else:\n",
    "    print('Для теста Манна-Уитни нулевая гипотеза не отвергается')\n",
    "    \n",
    "if t_test_1[1] < alpha:\n",
    "    print('Для t-теста нулевая гипотеза отвергается')\n",
    "else:\n",
    "    print('Для t-теста нулевая гипотеза не отвергается')"
   ]
  },
  {
   "cell_type": "markdown",
   "id": "6d606bb6",
   "metadata": {},
   "source": [
    "Нулевая гипотеза снова отвергнута, поэтому мы можем сказать, что в среднем машины с полным приводом разгоняются до 100 км/ч быстрее чем переднеприводные"
   ]
  },
  {
   "cell_type": "markdown",
   "id": "d10f3324",
   "metadata": {},
   "source": [
    "### Гипотеза №3\n",
    "\n",
    "Третья гипотеза: *Правда ли, что доля машин с коробкой автомат в 2021 и 2023 году была примерно одинаковой?* \n",
    "\n",
    "Для проверки гипотезы о равенстве долей будем использовать z-test. Формулируем гипотезы:\n",
    "\n",
    "$$\n",
    "\\begin{aligned}\n",
    "&H_0: \\hspace{2mm} p_{2023} - p_{2021} = 0\\hspace{2mm}  \\\\\n",
    "&H_1: \\hspace{2mm} p_{2023} - p_{2021} \\neq 0\\hspace{2mm} \n",
    "\\end{aligned}\n",
    "$$"
   ]
  },
  {
   "cell_type": "code",
   "execution_count": 12,
   "id": "a16ea661",
   "metadata": {},
   "outputs": [
    {
     "name": "stdout",
     "output_type": "stream",
     "text": [
      "Гипотеза отвергается\n"
     ]
    }
   ],
   "source": [
    "count_1 = (df[df['Год'] == 2023]['Коробка передач_Автомат'] == 1).sum()\n",
    "count_2 = (df[df['Год'] == 2021]['Коробка передач_Автомат'] == 1).sum()\n",
    "nobs_1 = len(df[df['Год'] == 2023])\n",
    "nobs_2 = len(df[df['Год'] == 2021])\n",
    "\n",
    "count = np.array([count_1, count_2])\n",
    "nobs = np.array([nobs_1, nobs_2])\n",
    "test = proportions_ztest(count, nobs)\n",
    "\n",
    "if test[1] < alpha:\n",
    "    print('Гипотеза отвергается')\n",
    "else:\n",
    "    print('Гипотеза не отвергается')\n"
   ]
  },
  {
   "cell_type": "markdown",
   "id": "208a8760",
   "metadata": {},
   "source": [
    "Гипотеза была отвергнута. Получается, что между долями машин с автоматической коробкой в 2023 и 2021 году есть статистически значимая разница"
   ]
  },
  {
   "cell_type": "markdown",
   "id": "fd259bc5",
   "metadata": {},
   "source": [
    "### Гипотеза №4\n",
    "\n",
    "Четвертая гипотеза: *Существует ли значимая взаимосвязь между типом двигателя и классом автомобиля?*\n",
    "\n",
    "Проверить гипотезу можно при помощи критерия независимости хи-квадрат:\n",
    "\n",
    "$$\n",
    "\\begin{aligned}\n",
    "&H_0: \\text{Не существует зависимости между типом двигателя и классом машины}  \\\\\n",
    "&H_1: \\text{Между классом машины и типом двигателя есть взаимосвязь} \\\n",
    "\\end{aligned}\n",
    "$$\n"
   ]
  },
  {
   "cell_type": "code",
   "execution_count": 13,
   "id": "d64a0bb4",
   "metadata": {},
   "outputs": [],
   "source": [
    "classes = ['Класс автомобиля_B', 'Класс автомобиля_C', 'Класс автомобиля_D',\n",
    "       'Класс автомобиля_E', 'Класс автомобиля_F', 'Класс автомобиля_J',\n",
    "       'Класс автомобиля_M']\n",
    "engines = ['Тип привода_полный', 'Тип двигателя_Электро',\n",
    "       'Тип двигателя_бензиновый', 'Тип двигателя_гибридный',\n",
    "       'Тип двигателя_дизельный']\n",
    "\n",
    "A = np.zeros((len(engines), len(classes)))"
   ]
  },
  {
   "cell_type": "code",
   "execution_count": 14,
   "id": "a4c9ddd9",
   "metadata": {},
   "outputs": [
    {
     "name": "stdout",
     "output_type": "stream",
     "text": [
      "Нулевая гипотеза отвергается\n"
     ]
    }
   ],
   "source": [
    "for i in range(len(engines)):\n",
    "    for j in range(len(classes)):\n",
    "        A[i, j] = len(df[(df[engines[i]] == 1) & (df[classes[j]] == 1)])\n",
    "test_chi = sts.chi2_contingency(A)\n",
    "\n",
    "if test_chi[1] < alpha:\n",
    "    print('Нулевая гипотеза отвергается')\n",
    "else:\n",
    "    print('Нулевая гипотеза не отвергается')"
   ]
  },
  {
   "cell_type": "markdown",
   "id": "315c1c35",
   "metadata": {},
   "source": [
    "Нулевая гипотеза отвергается, значит на уровне значимости 0.05 мы можем сказать, что класс машины и тип двигателя взаимосвязаны"
   ]
  }
 ],
 "metadata": {
  "kernelspec": {
   "display_name": "Python 3 (ipykernel)",
   "language": "python",
   "name": "python3"
  },
  "language_info": {
   "codemirror_mode": {
    "name": "ipython",
    "version": 3
   },
   "file_extension": ".py",
   "mimetype": "text/x-python",
   "name": "python",
   "nbconvert_exporter": "python",
   "pygments_lexer": "ipython3",
   "version": "3.9.12"
  }
 },
 "nbformat": 4,
 "nbformat_minor": 5
}
