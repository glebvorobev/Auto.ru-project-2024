{
 "cells": [
  {
   "cell_type": "code",
   "execution_count": null,
   "metadata": {},
   "outputs": [],
   "source": [
    "import requests\n",
    "from bs4 import BeautifulSoup\n",
    "import bs4\n",
    "from selenium import webdriver\n",
    "from selenium.webdriver.chrome.service import Service\n",
    "import pandas as pd\n",
    "service = Service()\n",
    "options = webdriver.ChromeOptions()\n",
    "driver = webdriver.Chrome(service=service, options=options)"
   ]
  },
  {
   "attachments": {},
   "cell_type": "markdown",
   "metadata": {},
   "source": [
    "Функция get_pages принимает на вход страницы на которых расположен выбор машин. На одной странице около 37 машин. Функция собирает ссылки на все машины на этой странице"
   ]
  },
  {
   "cell_type": "code",
   "execution_count": null,
   "metadata": {},
   "outputs": [],
   "source": [
    "def get_pages(url):\n",
    "    driver.get(url)\n",
    "    soup = BeautifulSoup(driver.page_source, 'html')\n",
    "    dirty_hrefs = soup.find_all('a', attrs={'class': 'Link ListingItemTitle__link'})\n",
    "    clean_hrefs = [a['href'] for a in dirty_hrefs]\n",
    "    return clean_hrefs"
   ]
  },
  {
   "attachments": {},
   "cell_type": "markdown",
   "metadata": {},
   "source": [
    "Дальше мы входим на auto.ru вне циклов, чтобы пройти капчу и забыть про нее"
   ]
  },
  {
   "cell_type": "code",
   "execution_count": null,
   "metadata": {},
   "outputs": [],
   "source": [
    "url = \"https://auto.ru/moskva/cars/vendor-chinese/used/\"\n",
    "driver.get(url)\n",
    "soup = BeautifulSoup(driver.page_source, 'html')"
   ]
  },
  {
   "attachments": {},
   "cell_type": "markdown",
   "metadata": {},
   "source": [
    "Функция base_char работает на первичной странице машины. Она собирает самые важные данные: название, цену, километраж и год"
   ]
  },
  {
   "cell_type": "code",
   "execution_count": null,
   "metadata": {},
   "outputs": [],
   "source": [
    "def base_char(url):\n",
    "    driver.get(url)\n",
    "    soup = BeautifulSoup(driver.page_source, 'html')\n",
    "    # название\n",
    "    car_name = soup.find('h1', attrs={\"class\": \"CardHead__title\"})\n",
    "    if car_name:\n",
    "        car_name = car_name.text.split(',')[0]\n",
    "    # цена\n",
    "    price = soup.find('span', {'class': 'OfferPriceCaption__price'})\n",
    "    if price:\n",
    "        price = price.text.replace(u'\\xa0', '')\n",
    "    # километраж\n",
    "    km_age = soup.find('li', attrs={'class': \"CardInfoRow CardInfoRow_kmAge\"})\n",
    "    if km_age:\n",
    "        km_age = km_age.find_all('span', attrs={'class': 'CardInfoRow__cell'})\n",
    "        km_age = int(km_age[1].text.split()[0])\n",
    "    # год\n",
    "    year = soup.find('li', attrs={'class': \"CardInfoRow CardInfoRow_year\"})\n",
    "    if year:\n",
    "        year = year.find_all('span', attrs={'class': 'CardInfoRow__cell'})\n",
    "        year = int(year[1].text.split()[0])\n",
    "    d = {\"Название\": car_name,\n",
    "         \"Ссылка\": url,\n",
    "         \"Цена\": price,\n",
    "         \"Год\": year,\n",
    "         \"Километраж\": km_age}\n",
    "    return d\n"
   ]
  },
  {
   "attachments": {},
   "cell_type": "markdown",
   "metadata": {},
   "source": [
    "Функиця button_link работает на странице машины. Она собирает ссылки на подробные характеристики автомобиля"
   ]
  },
  {
   "cell_type": "code",
   "execution_count": null,
   "metadata": {},
   "outputs": [],
   "source": [
    "def button_link(url):\n",
    "    driver.get(url)\n",
    "    soup = BeautifulSoup(driver.page_source, 'html')\n",
    "    har = soup.find('a', attrs={\"class\": \"Button Button_color_gray Button_size_l Button_type_link Button_width_full\"})\n",
    "    if har:\n",
    "        har = har.get('href')\n",
    "    return har"
   ]
  },
  {
   "attachments": {},
   "cell_type": "markdown",
   "metadata": {},
   "source": [
    "Функция get_features работает на странице характеристик, ссылку на которую она получает через функцию button_link. Данная функиця собирает большое количество характеристик: класс автомобиля, количество дверей, количество мест, длину, ширину, высоту, коробку передач, тип привода, максимальную скорость, разгон до 100км\\ч, тип двигаетля и максимальуню мощность"
   ]
  },
  {
   "cell_type": "code",
   "execution_count": null,
   "metadata": {},
   "outputs": [],
   "source": [
    "def get_features(href):\n",
    "    driver.get(href)\n",
    "    soup = BeautifulSoup(driver.page_source, 'html')\n",
    "    d = {}\n",
    "    names = [el.text for el in soup.find_all('h3', {'class': 'ModificationInfo__groupName-axo8d'})]\n",
    "    for j in range(len(names)):\n",
    "        \n",
    "        #Общая информация\n",
    "        if names[j] == 'Общая информация':\n",
    "            all_info = soup.find_all('ul', {'class': 'ModificationInfo__options-yDaxw'})[j].text.split('\\xa0')\n",
    "            for i in range(0, len(all_info), 2):\n",
    "                if all_info[i] == 'Класс автомобиля':\n",
    "                    car_class = all_info[i + 1]\n",
    "                elif all_info[i] == 'Количество дверей':\n",
    "                    doors_num = all_info[i + 1]\n",
    "                elif all_info[i] == 'Количество мест':\n",
    "                    seats_num = all_info[i + 1]\n",
    "            \n",
    "            if 'Класс автомобиля' not in all_info:\n",
    "                car_class = None\n",
    "            if 'Количество дверей' not in all_info:\n",
    "                doors_num = None\n",
    "            if 'Количество мест' not in all_info:\n",
    "                seats_num = None\n",
    "            \n",
    "        #Размеры\n",
    "        elif names[j] == 'Размеры':\n",
    "            sizes = soup.find_all('ul', {'class': 'ModificationInfo__options-yDaxw'})[j].text.split('\\xa0')\n",
    "            for i in range(0, len(sizes), 2):\n",
    "                if sizes[i] == 'Длина':\n",
    "                    car_length = sizes[i + 1]\n",
    "                elif sizes[i] == 'ммШирина':\n",
    "                    car_width = sizes[i + 1]\n",
    "                elif sizes[i] == 'ммВысота':\n",
    "                    car_height = sizes[i + 1]\n",
    "    \n",
    "            if 'Длина' not in sizes:\n",
    "                car_length = None\n",
    "            if 'ммШирина' not in sizes:\n",
    "                car_width = None\n",
    "            if 'ммВысота' not in sizes:\n",
    "                car_height = None\n",
    "        \n",
    "    # трансмиссия\n",
    "        elif names[j] == 'Трансмиссия':\n",
    "            transmission = soup.find_all('ul', {'class': 'ModificationInfo__options-yDaxw'})[j].text.split('\\xa0')\n",
    "            for i in range(0, len(transmission), 2):\n",
    "                if transmission[i] == 'Коробка передач':\n",
    "                    korobka = transmission[i + 1]\n",
    "                elif transmission[i] == 'Тип привода':\n",
    "                    privod = transmission[i + 1]\n",
    "    \n",
    "            if 'Коробка передач' not in transmission:\n",
    "                korobka = None\n",
    "            if 'Тип привода' not in transmission:\n",
    "                privod = None\n",
    "        \n",
    "    # Эксплуатационные показатели\n",
    "        elif names[j] == 'Эксплуатационные показатели':\n",
    "            expl = soup.find_all('ul', {'class': 'ModificationInfo__options-yDaxw'})[j].text.split('\\xa0')\n",
    "            for i in range(0, len(expl), 2):\n",
    "                if expl[i] == 'Максимальная скорость':\n",
    "                    max_speed = expl[i + 1]\n",
    "                elif expl[i] == 'км/чРазгон до 100 км/ч':\n",
    "                    time_100 = expl[i + 1]\n",
    "                \n",
    "            if 'Максимальная скорость' not in expl:\n",
    "                max_speed = None\n",
    "            if 'км/чРазгон до 100 км/ч' not in expl:\n",
    "                time_100 = None\n",
    "            \n",
    "    # Двигатель\n",
    "        elif names[j] == 'Двигатель':\n",
    "            engine = soup.find_all('ul', {'class': 'ModificationInfo__options-yDaxw'})[j].text.split('\\xa0')\n",
    "            for i in range(0, len(engine), 2):\n",
    "                if engine[i] == 'Тип двигателя':\n",
    "                    engine_type = engine[i + 1]\n",
    "                elif engine[i] == 'Максимальная мощность':\n",
    "                    engine_hp = engine[i + 1]\n",
    "            \n",
    "            if 'Тип двигателя' not in engine:\n",
    "                engine_type = None\n",
    "            if 'Максимальная мощность' not in engine:\n",
    "                engine_type = None\n",
    "            \n",
    "    d = {'Класс автомобиля': car_class, 'Количество дверей': doors_num, 'Количество мест': seats_num,\n",
    "         'Длина': car_length, 'Ширина': car_width, 'Высота': car_height,\n",
    "         'Коробка передач': korobka, 'Тип привода':  privod, 'Максимальная скорость': max_speed,\n",
    "         'Разгон до 100': time_100, 'Тип двигателя': engine_type, 'Максимальная мощность': engine_hp}\n",
    "    \n",
    "    return d"
   ]
  },
  {
   "attachments": {},
   "cell_type": "markdown",
   "metadata": {},
   "source": [
    "Дальше написан сам парсер который использует вышеописанные функции. Он идет по 6 городам России: 3 в центральной части и 3 в восточной. Сначала парсер испольлзует функцию по сбору страниц, далее проходит по каждой машине со страницы на которой он собирает базовые и дополнительные характеристики автомобиля. Также в парсере записывается информация о городе где расположена машина."
   ]
  },
  {
   "cell_type": "code",
   "execution_count": null,
   "metadata": {},
   "outputs": [],
   "source": [
    "cities = ['moskva', 'rostov-na-donu', 'sankt-peterburg', 'ekaterinburg', 'novosibirsk', 'vladivostok']\n",
    "parsed_df = []\n",
    "for city in cities:\n",
    "    res = []\n",
    "    for i in range(2, 15):\n",
    "        url = f'https://auto.ru/{city}/cars/vendor-chinese/used/?page={i}'\n",
    "        page_pages = get_pages(url)\n",
    "        for page in page_pages:\n",
    "            car_1 = base_char(page)\n",
    "            car_1[\"Город\"] = city\n",
    "            inside_url = button_link(page)\n",
    "            if inside_url:\n",
    "                car_2 = get_features(inside_url)\n",
    "                car = car_1 | car_2\n",
    "            else:\n",
    "                car = car_1\n",
    "            parsed_df.append(car)\n"
   ]
  },
  {
   "attachments": {},
   "cell_type": "markdown",
   "metadata": {},
   "source": [
    "Затем полученные список словарей преобразовывается в датафрейм с помощью pandas"
   ]
  },
  {
   "cell_type": "code",
   "execution_count": null,
   "metadata": {},
   "outputs": [],
   "source": [
    "df = pd.DataFrame(parsed_df)\n",
    "df.to_csv('df', encoding='utf-8')"
   ]
  }
 ],
 "metadata": {
  "kernelspec": {
   "display_name": "Python 3",
   "language": "python",
   "name": "python3"
  },
  "language_info": {
   "codemirror_mode": {
    "name": "ipython",
    "version": 3
   },
   "file_extension": ".py",
   "mimetype": "text/x-python",
   "name": "python",
   "nbconvert_exporter": "python",
   "pygments_lexer": "ipython3",
   "version": "3.9.6"
  },
  "orig_nbformat": 4
 },
 "nbformat": 4,
 "nbformat_minor": 2
}
